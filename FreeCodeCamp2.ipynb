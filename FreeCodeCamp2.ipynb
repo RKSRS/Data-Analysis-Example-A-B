{
 "cells": [
  {
   "cell_type": "code",
   "execution_count": 330,
   "id": "918f5d29",
   "metadata": {},
   "outputs": [],
   "source": [
    "import numpy as np\n",
    "import pandas as pd\n",
    "import matplotlib.pyplot as plt\n",
    "import sqlite3\n",
    "\n",
    "%matplotlib inline"
   ]
  },
  {
   "cell_type": "code",
   "execution_count": 331,
   "id": "d4dccc97",
   "metadata": {},
   "outputs": [
    {
     "ename": "DatabaseError",
     "evalue": "Execution failed on sql '\n    SELECT\n        rental.rental_id, rental.rental_date, rental.return_date,\n        customer.last_name AS customer_lastname,\n        store.store_id,\n        city.city AS rental_store_city,\n        film.title AS film_title, film.rental_duration AS film_rental_duration,\n        film.rental_rate AS film_rental_rate, film.replacement_cost AS film_replacement_cost,\n        film.rating AS film_rating\n    FROM rental\n    INNER JOIN customer ON rental.customer_id == customer.customer_id\n    INNER JOIN inventory ON rental.inventory_id == inventory.inventory_id\n    INNER JOIN store ON inventory.store_id == store.store_id\n    INNER JOIN address ON store.address_id == address.address_id\n    INNER JOIN city ON address.city_id == city.city_id\n    INNER JOIN film ON inventory.film_id == film.film_id\n    ;\n': no such table: rental",
     "output_type": "error",
     "traceback": [
      "\u001b[0;31m---------------------------------------------------------------------------\u001b[0m",
      "\u001b[0;31mOperationalError\u001b[0m                          Traceback (most recent call last)",
      "File \u001b[0;32m~/.local/lib/python3.10/site-packages/pandas/io/sql.py:2266\u001b[0m, in \u001b[0;36mSQLiteDatabase.execute\u001b[0;34m(self, sql, params)\u001b[0m\n\u001b[1;32m   2265\u001b[0m \u001b[39mtry\u001b[39;00m:\n\u001b[0;32m-> 2266\u001b[0m     cur\u001b[39m.\u001b[39;49mexecute(sql, \u001b[39m*\u001b[39;49margs)\n\u001b[1;32m   2267\u001b[0m     \u001b[39mreturn\u001b[39;00m cur\n",
      "\u001b[0;31mOperationalError\u001b[0m: no such table: rental",
      "\nThe above exception was the direct cause of the following exception:\n",
      "\u001b[0;31mDatabaseError\u001b[0m                             Traceback (most recent call last)",
      "\u001b[1;32m/RKSRS/Data-Analysis-Example-A-B/FreeCodeCamp2.ipynb Cell 2\u001b[0m line \u001b[0;36m3\n\u001b[1;32m      <a href='vscode-notebook-cell://github%2B7b2276223a312c22726566223a7b2274797065223a352c226964223a226d61696e227d7d/RKSRS/Data-Analysis-Example-A-B/FreeCodeCamp2.ipynb#W4sdnNjb2RlLXZmcw%3D%3D?line=0'>1</a>\u001b[0m conn \u001b[39m=\u001b[39m sqlite3\u001b[39m.\u001b[39mconnect(\u001b[39m'\u001b[39m\u001b[39msakila_master.db\u001b[39m\u001b[39m'\u001b[39m)\n\u001b[0;32m----> <a href='vscode-notebook-cell://github%2B7b2276223a312c22726566223a7b2274797065223a352c226964223a226d61696e227d7d/RKSRS/Data-Analysis-Example-A-B/FreeCodeCamp2.ipynb#W4sdnNjb2RlLXZmcw%3D%3D?line=2'>3</a>\u001b[0m df \u001b[39m=\u001b[39m pd\u001b[39m.\u001b[39;49mread_sql(\u001b[39m'''\u001b[39;49m\n\u001b[1;32m      <a href='vscode-notebook-cell://github%2B7b2276223a312c22726566223a7b2274797065223a352c226964223a226d61696e227d7d/RKSRS/Data-Analysis-Example-A-B/FreeCodeCamp2.ipynb#W4sdnNjb2RlLXZmcw%3D%3D?line=3'>4</a>\u001b[0m \u001b[39m    SELECT\u001b[39;49m\n\u001b[1;32m      <a href='vscode-notebook-cell://github%2B7b2276223a312c22726566223a7b2274797065223a352c226964223a226d61696e227d7d/RKSRS/Data-Analysis-Example-A-B/FreeCodeCamp2.ipynb#W4sdnNjb2RlLXZmcw%3D%3D?line=4'>5</a>\u001b[0m \u001b[39m        rental.rental_id, rental.rental_date, rental.return_date,\u001b[39;49m\n\u001b[1;32m      <a href='vscode-notebook-cell://github%2B7b2276223a312c22726566223a7b2274797065223a352c226964223a226d61696e227d7d/RKSRS/Data-Analysis-Example-A-B/FreeCodeCamp2.ipynb#W4sdnNjb2RlLXZmcw%3D%3D?line=5'>6</a>\u001b[0m \u001b[39m        customer.last_name AS customer_lastname,\u001b[39;49m\n\u001b[1;32m      <a href='vscode-notebook-cell://github%2B7b2276223a312c22726566223a7b2274797065223a352c226964223a226d61696e227d7d/RKSRS/Data-Analysis-Example-A-B/FreeCodeCamp2.ipynb#W4sdnNjb2RlLXZmcw%3D%3D?line=6'>7</a>\u001b[0m \u001b[39m        store.store_id,\u001b[39;49m\n\u001b[1;32m      <a href='vscode-notebook-cell://github%2B7b2276223a312c22726566223a7b2274797065223a352c226964223a226d61696e227d7d/RKSRS/Data-Analysis-Example-A-B/FreeCodeCamp2.ipynb#W4sdnNjb2RlLXZmcw%3D%3D?line=7'>8</a>\u001b[0m \u001b[39m        city.city AS rental_store_city,\u001b[39;49m\n\u001b[1;32m      <a href='vscode-notebook-cell://github%2B7b2276223a312c22726566223a7b2274797065223a352c226964223a226d61696e227d7d/RKSRS/Data-Analysis-Example-A-B/FreeCodeCamp2.ipynb#W4sdnNjb2RlLXZmcw%3D%3D?line=8'>9</a>\u001b[0m \u001b[39m        film.title AS film_title, film.rental_duration AS film_rental_duration,\u001b[39;49m\n\u001b[1;32m     <a href='vscode-notebook-cell://github%2B7b2276223a312c22726566223a7b2274797065223a352c226964223a226d61696e227d7d/RKSRS/Data-Analysis-Example-A-B/FreeCodeCamp2.ipynb#W4sdnNjb2RlLXZmcw%3D%3D?line=9'>10</a>\u001b[0m \u001b[39m        film.rental_rate AS film_rental_rate, film.replacement_cost AS film_replacement_cost,\u001b[39;49m\n\u001b[1;32m     <a href='vscode-notebook-cell://github%2B7b2276223a312c22726566223a7b2274797065223a352c226964223a226d61696e227d7d/RKSRS/Data-Analysis-Example-A-B/FreeCodeCamp2.ipynb#W4sdnNjb2RlLXZmcw%3D%3D?line=10'>11</a>\u001b[0m \u001b[39m        film.rating AS film_rating\u001b[39;49m\n\u001b[1;32m     <a href='vscode-notebook-cell://github%2B7b2276223a312c22726566223a7b2274797065223a352c226964223a226d61696e227d7d/RKSRS/Data-Analysis-Example-A-B/FreeCodeCamp2.ipynb#W4sdnNjb2RlLXZmcw%3D%3D?line=11'>12</a>\u001b[0m \u001b[39m    FROM rental\u001b[39;49m\n\u001b[1;32m     <a href='vscode-notebook-cell://github%2B7b2276223a312c22726566223a7b2274797065223a352c226964223a226d61696e227d7d/RKSRS/Data-Analysis-Example-A-B/FreeCodeCamp2.ipynb#W4sdnNjb2RlLXZmcw%3D%3D?line=12'>13</a>\u001b[0m \u001b[39m    INNER JOIN customer ON rental.customer_id == customer.customer_id\u001b[39;49m\n\u001b[1;32m     <a href='vscode-notebook-cell://github%2B7b2276223a312c22726566223a7b2274797065223a352c226964223a226d61696e227d7d/RKSRS/Data-Analysis-Example-A-B/FreeCodeCamp2.ipynb#W4sdnNjb2RlLXZmcw%3D%3D?line=13'>14</a>\u001b[0m \u001b[39m    INNER JOIN inventory ON rental.inventory_id == inventory.inventory_id\u001b[39;49m\n\u001b[1;32m     <a href='vscode-notebook-cell://github%2B7b2276223a312c22726566223a7b2274797065223a352c226964223a226d61696e227d7d/RKSRS/Data-Analysis-Example-A-B/FreeCodeCamp2.ipynb#W4sdnNjb2RlLXZmcw%3D%3D?line=14'>15</a>\u001b[0m \u001b[39m    INNER JOIN store ON inventory.store_id == store.store_id\u001b[39;49m\n\u001b[1;32m     <a href='vscode-notebook-cell://github%2B7b2276223a312c22726566223a7b2274797065223a352c226964223a226d61696e227d7d/RKSRS/Data-Analysis-Example-A-B/FreeCodeCamp2.ipynb#W4sdnNjb2RlLXZmcw%3D%3D?line=15'>16</a>\u001b[0m \u001b[39m    INNER JOIN address ON store.address_id == address.address_id\u001b[39;49m\n\u001b[1;32m     <a href='vscode-notebook-cell://github%2B7b2276223a312c22726566223a7b2274797065223a352c226964223a226d61696e227d7d/RKSRS/Data-Analysis-Example-A-B/FreeCodeCamp2.ipynb#W4sdnNjb2RlLXZmcw%3D%3D?line=16'>17</a>\u001b[0m \u001b[39m    INNER JOIN city ON address.city_id == city.city_id\u001b[39;49m\n\u001b[1;32m     <a href='vscode-notebook-cell://github%2B7b2276223a312c22726566223a7b2274797065223a352c226964223a226d61696e227d7d/RKSRS/Data-Analysis-Example-A-B/FreeCodeCamp2.ipynb#W4sdnNjb2RlLXZmcw%3D%3D?line=17'>18</a>\u001b[0m \u001b[39m    INNER JOIN film ON inventory.film_id == film.film_id\u001b[39;49m\n\u001b[1;32m     <a href='vscode-notebook-cell://github%2B7b2276223a312c22726566223a7b2274797065223a352c226964223a226d61696e227d7d/RKSRS/Data-Analysis-Example-A-B/FreeCodeCamp2.ipynb#W4sdnNjb2RlLXZmcw%3D%3D?line=18'>19</a>\u001b[0m \u001b[39m    ;\u001b[39;49m\n\u001b[1;32m     <a href='vscode-notebook-cell://github%2B7b2276223a312c22726566223a7b2274797065223a352c226964223a226d61696e227d7d/RKSRS/Data-Analysis-Example-A-B/FreeCodeCamp2.ipynb#W4sdnNjb2RlLXZmcw%3D%3D?line=19'>20</a>\u001b[0m \u001b[39m'''\u001b[39;49m, conn, index_col\u001b[39m=\u001b[39;49m\u001b[39m'\u001b[39;49m\u001b[39mrental_id\u001b[39;49m\u001b[39m'\u001b[39;49m, parse_dates\u001b[39m=\u001b[39;49m[\u001b[39m'\u001b[39;49m\u001b[39mrental_date\u001b[39;49m\u001b[39m'\u001b[39;49m, \u001b[39m'\u001b[39;49m\u001b[39mreturn_date\u001b[39;49m\u001b[39m'\u001b[39;49m])\n",
      "File \u001b[0;32m~/.local/lib/python3.10/site-packages/pandas/io/sql.py:654\u001b[0m, in \u001b[0;36mread_sql\u001b[0;34m(sql, con, index_col, coerce_float, params, parse_dates, columns, chunksize, dtype_backend, dtype)\u001b[0m\n\u001b[1;32m    652\u001b[0m \u001b[39mwith\u001b[39;00m pandasSQL_builder(con) \u001b[39mas\u001b[39;00m pandas_sql:\n\u001b[1;32m    653\u001b[0m     \u001b[39mif\u001b[39;00m \u001b[39misinstance\u001b[39m(pandas_sql, SQLiteDatabase):\n\u001b[0;32m--> 654\u001b[0m         \u001b[39mreturn\u001b[39;00m pandas_sql\u001b[39m.\u001b[39;49mread_query(\n\u001b[1;32m    655\u001b[0m             sql,\n\u001b[1;32m    656\u001b[0m             index_col\u001b[39m=\u001b[39;49mindex_col,\n\u001b[1;32m    657\u001b[0m             params\u001b[39m=\u001b[39;49mparams,\n\u001b[1;32m    658\u001b[0m             coerce_float\u001b[39m=\u001b[39;49mcoerce_float,\n\u001b[1;32m    659\u001b[0m             parse_dates\u001b[39m=\u001b[39;49mparse_dates,\n\u001b[1;32m    660\u001b[0m             chunksize\u001b[39m=\u001b[39;49mchunksize,\n\u001b[1;32m    661\u001b[0m             dtype_backend\u001b[39m=\u001b[39;49mdtype_backend,\n\u001b[1;32m    662\u001b[0m             dtype\u001b[39m=\u001b[39;49mdtype,\n\u001b[1;32m    663\u001b[0m         )\n\u001b[1;32m    665\u001b[0m     \u001b[39mtry\u001b[39;00m:\n\u001b[1;32m    666\u001b[0m         _is_table_name \u001b[39m=\u001b[39m pandas_sql\u001b[39m.\u001b[39mhas_table(sql)\n",
      "File \u001b[0;32m~/.local/lib/python3.10/site-packages/pandas/io/sql.py:2330\u001b[0m, in \u001b[0;36mSQLiteDatabase.read_query\u001b[0;34m(self, sql, index_col, coerce_float, parse_dates, params, chunksize, dtype, dtype_backend)\u001b[0m\n\u001b[1;32m   2319\u001b[0m \u001b[39mdef\u001b[39;00m \u001b[39mread_query\u001b[39m(\n\u001b[1;32m   2320\u001b[0m     \u001b[39mself\u001b[39m,\n\u001b[1;32m   2321\u001b[0m     sql,\n\u001b[0;32m   (...)\u001b[0m\n\u001b[1;32m   2328\u001b[0m     dtype_backend: DtypeBackend \u001b[39m|\u001b[39m Literal[\u001b[39m\"\u001b[39m\u001b[39mnumpy\u001b[39m\u001b[39m\"\u001b[39m] \u001b[39m=\u001b[39m \u001b[39m\"\u001b[39m\u001b[39mnumpy\u001b[39m\u001b[39m\"\u001b[39m,\n\u001b[1;32m   2329\u001b[0m ) \u001b[39m-\u001b[39m\u001b[39m>\u001b[39m DataFrame \u001b[39m|\u001b[39m Iterator[DataFrame]:\n\u001b[0;32m-> 2330\u001b[0m     cursor \u001b[39m=\u001b[39m \u001b[39mself\u001b[39;49m\u001b[39m.\u001b[39;49mexecute(sql, params)\n\u001b[1;32m   2331\u001b[0m     columns \u001b[39m=\u001b[39m [col_desc[\u001b[39m0\u001b[39m] \u001b[39mfor\u001b[39;00m col_desc \u001b[39min\u001b[39;00m cursor\u001b[39m.\u001b[39mdescription]\n\u001b[1;32m   2333\u001b[0m     \u001b[39mif\u001b[39;00m chunksize \u001b[39mis\u001b[39;00m \u001b[39mnot\u001b[39;00m \u001b[39mNone\u001b[39;00m:\n",
      "File \u001b[0;32m~/.local/lib/python3.10/site-packages/pandas/io/sql.py:2278\u001b[0m, in \u001b[0;36mSQLiteDatabase.execute\u001b[0;34m(self, sql, params)\u001b[0m\n\u001b[1;32m   2275\u001b[0m     \u001b[39mraise\u001b[39;00m ex \u001b[39mfrom\u001b[39;00m \u001b[39minner_exc\u001b[39;00m\n\u001b[1;32m   2277\u001b[0m ex \u001b[39m=\u001b[39m DatabaseError(\u001b[39mf\u001b[39m\u001b[39m\"\u001b[39m\u001b[39mExecution failed on sql \u001b[39m\u001b[39m'\u001b[39m\u001b[39m{\u001b[39;00msql\u001b[39m}\u001b[39;00m\u001b[39m'\u001b[39m\u001b[39m: \u001b[39m\u001b[39m{\u001b[39;00mexc\u001b[39m}\u001b[39;00m\u001b[39m\"\u001b[39m)\n\u001b[0;32m-> 2278\u001b[0m \u001b[39mraise\u001b[39;00m ex \u001b[39mfrom\u001b[39;00m \u001b[39mexc\u001b[39;00m\n",
      "\u001b[0;31mDatabaseError\u001b[0m: Execution failed on sql '\n    SELECT\n        rental.rental_id, rental.rental_date, rental.return_date,\n        customer.last_name AS customer_lastname,\n        store.store_id,\n        city.city AS rental_store_city,\n        film.title AS film_title, film.rental_duration AS film_rental_duration,\n        film.rental_rate AS film_rental_rate, film.replacement_cost AS film_replacement_cost,\n        film.rating AS film_rating\n    FROM rental\n    INNER JOIN customer ON rental.customer_id == customer.customer_id\n    INNER JOIN inventory ON rental.inventory_id == inventory.inventory_id\n    INNER JOIN store ON inventory.store_id == store.store_id\n    INNER JOIN address ON store.address_id == address.address_id\n    INNER JOIN city ON address.city_id == city.city_id\n    INNER JOIN film ON inventory.film_id == film.film_id\n    ;\n': no such table: rental"
     ]
    }
   ],
   "source": [
    "conn = sqlite3.connect('sakila_master.db')\n",
    "\n",
    "df = pd.read_sql('''\n",
    "    SELECT\n",
    "        rental.rental_id, rental.rental_date, rental.return_date,\n",
    "        customer.last_name AS customer_lastname,\n",
    "        store.store_id,\n",
    "        city.city AS rental_store_city,\n",
    "        film.title AS film_title, film.rental_duration AS film_rental_duration,\n",
    "        film.rental_rate AS film_rental_rate, film.replacement_cost AS film_replacement_cost,\n",
    "        film.rating AS film_rating\n",
    "    FROM rental\n",
    "    INNER JOIN customer ON rental.customer_id == customer.customer_id\n",
    "    INNER JOIN inventory ON rental.inventory_id == inventory.inventory_id\n",
    "    INNER JOIN store ON inventory.store_id == store.store_id\n",
    "    INNER JOIN address ON store.address_id == address.address_id\n",
    "    INNER JOIN city ON address.city_id == city.city_id\n",
    "    INNER JOIN film ON inventory.film_id == film.film_id\n",
    "    ;\n",
    "''', conn, index_col='rental_id', parse_dates=['rental_date', 'return_date'])"
   ]
  },
  {
   "cell_type": "code",
   "execution_count": null,
   "id": "8db6b16c",
   "metadata": {},
   "outputs": [],
   "source": []
  }
 ],
 "metadata": {
  "kernelspec": {
   "display_name": "Python 3 (ipykernel)",
   "language": "python",
   "name": "python3"
  },
  "language_info": {
   "codemirror_mode": {
    "name": "ipython",
    "version": 3
   },
   "file_extension": ".py",
   "mimetype": "text/x-python",
   "name": "python",
   "nbconvert_exporter": "python",
   "pygments_lexer": "ipython3",
   "version": "3.10.8"
  }
 },
 "nbformat": 4,
 "nbformat_minor": 5
}
